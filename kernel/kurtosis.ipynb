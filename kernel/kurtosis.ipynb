{
 "cells": [
  {
   "cell_type": "code",
   "execution_count": 1,
   "id": "bb7047b4",
   "metadata": {},
   "outputs": [
    {
     "name": "stdout",
     "output_type": "stream",
     "text": [
      "Manual kurtosis (excess): -0.046766\n",
      "Scipy  kurtosis (excess): -0.046766\n"
     ]
    }
   ],
   "source": [
    "import numpy as np\n",
    "from scipy.stats import kurtosis as scipy_kurtosis\n",
    "\n",
    "# -----------------------------------------------------------\n",
    "# Manual kurtosis implementation (population-based)\n",
    "# -----------------------------------------------------------\n",
    "def manual_kurtosis(x, excess=True):\n",
    "    x = np.asarray(x)\n",
    "    N = len(x)\n",
    "    mean = np.mean(x)\n",
    "    std = np.std(x)\n",
    "\n",
    "    if std == 0:\n",
    "        return np.nan  # Avoid division by zero\n",
    "\n",
    "    # Compute 4th standardized moment\n",
    "    moment4 = np.mean(((x - mean) / std) ** 4)\n",
    "\n",
    "    if excess:\n",
    "        return moment4 - 3  # Excess kurtosis (same as scipy default)\n",
    "    else:\n",
    "        return moment4      # Regular kurtosis\n",
    "\n",
    "# -----------------------------------------------------------\n",
    "# Generate example data\n",
    "# -----------------------------------------------------------\n",
    "np.random.seed(0)\n",
    "x = np.random.normal(loc=0, scale=1, size=1000)  # Normal distribution\n",
    "\n",
    "# -----------------------------------------------------------\n",
    "# Compute kurtosis manually and using scipy\n",
    "# -----------------------------------------------------------\n",
    "k_manual = manual_kurtosis(x)\n",
    "k_scipy  = scipy_kurtosis(x, fisher=True)  # fisher=True returns excess kurtosis\n",
    "\n",
    "print(f\"Manual kurtosis (excess): {k_manual:.6f}\")\n",
    "print(f\"Scipy  kurtosis (excess): {k_scipy:.6f}\")\n"
   ]
  }
 ],
 "metadata": {
  "kernelspec": {
   "display_name": "hw",
   "language": "python",
   "name": "python3"
  },
  "language_info": {
   "codemirror_mode": {
    "name": "ipython",
    "version": 3
   },
   "file_extension": ".py",
   "mimetype": "text/x-python",
   "name": "python",
   "nbconvert_exporter": "python",
   "pygments_lexer": "ipython3",
   "version": "3.9.16"
  }
 },
 "nbformat": 4,
 "nbformat_minor": 5
}
