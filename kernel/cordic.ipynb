{
 "cells": [
  {
   "cell_type": "code",
   "execution_count": 5,
   "id": "cad9a086",
   "metadata": {},
   "outputs": [],
   "source": [
    "import numpy as np"
   ]
  },
  {
   "cell_type": "code",
   "execution_count": 6,
   "id": "5d7bbc7c",
   "metadata": {},
   "outputs": [],
   "source": [
    "\n",
    "def sat_int16(v: int) -> int:\n",
    "    \"\"\"Saturate to int16 range\"\"\"\n",
    "    if v >  32767: return -32768\n",
    "    if v < -32768: return 32767\n",
    "    return v\n",
    "\n",
    "def cordic(x: int, y: int, z: int, mode: int, flt: bool):\n",
    "    ang_lut = [8192, 4836, 2555, 1297, 651, 325, 162, 81, 40, 20]\n",
    "    pre_shift = False\n",
    "    iterations = 10\n",
    "\n",
    "    if (x >= -256 and x <= 255) and (y >= -256 and y <= 255):\n",
    "        pre_shift = True\n",
    "        x <<= 8\n",
    "        y <<= 8\n",
    "\n",
    "    # Quadrant correction\n",
    "    if np.sign(y) >= 0 and np.sign(x) >= 0:\n",
    "        pass\n",
    "    elif np.sign(y) >= 0 and np.sign(x) < 0:\n",
    "        xt, yt = y, -x\n",
    "        x, y = xt, yt\n",
    "    elif np.sign(y) < 0 and np.sign(x) >= 0:\n",
    "        x, y = -x, -y\n",
    "    else:\n",
    "        xt, yt = -y, x\n",
    "        x, y = xt, yt\n",
    "\n",
    "    vector = (mode < 4)\n",
    "    z_init = 0 if mode == 0 else z\n",
    "\n",
    "\n",
    "    for i in range(iterations):\n",
    "        if vector:\n",
    "            di = 1 if y >= 0 else -1\n",
    "            x_new = x + di * (y >> i)\n",
    "            y_new = y - di * (x >> i)\n",
    "            z_init += di * ang_lut[i]\n",
    "        else:\n",
    "            di = 1 if z >= 0 else -1\n",
    "            x_new = x - di * (y >> i)\n",
    "            y_new = y + di * (x >> i)\n",
    "            z_init -= di * ang_lut[i]\n",
    "        x, y = x_new, y_new\n",
    "\n",
    "    # Final scaling\n",
    "\n",
    "    x = (x * 0x4DBC) >> (23 if pre_shift else 15)\n",
    "    y = (y * 0x4DBC) >> (23 if pre_shift else 15)\n",
    "\n",
    "    x = sat_int16(x)\n",
    "    y = sat_int16(y)\n",
    "\n",
    "    if flt:\n",
    "        if mode == 0:\n",
    "            return [np.float16(x), np.float16(y)]\n",
    "        elif mode == 1:\n",
    "            return [np.float16(z_init), np.float16(0)]\n",
    "        elif mode == 2:\n",
    "            return [np.float16(x), np.float16(0)]\n",
    "        elif mode == 3:\n",
    "            return [np.float16(x), np.float16(z_init)]\n",
    "        else:\n",
    "            return [np.float16(x), np.float16(y)]\n",
    "    else:\n",
    "        if mode == 0:\n",
    "            return [x, y]\n",
    "        elif mode == 1:\n",
    "            return [z_init, 0]\n",
    "        elif mode == 2:\n",
    "            return [x, 0]\n",
    "        elif mode == 3:\n",
    "            return [x, z_init]\n",
    "        else:\n",
    "            return [x, y]\n"
   ]
  },
  {
   "cell_type": "code",
   "execution_count": 14,
   "id": "39f2162b",
   "metadata": {},
   "outputs": [
    {
     "data": {
      "text/plain": [
       "[2.0, 0.0]"
      ]
     },
     "execution_count": 14,
     "metadata": {},
     "output_type": "execute_result"
    }
   ],
   "source": [
    "x = 0\n",
    "y = 2\n",
    "z = 0\n",
    "\n",
    "out = cordic(x,y,z,2, 1)\n",
    "out"
   ]
  },
  {
   "cell_type": "code",
   "execution_count": null,
   "id": "9b3aabcc",
   "metadata": {},
   "outputs": [],
   "source": []
  }
 ],
 "metadata": {
  "kernelspec": {
   "display_name": "hw",
   "language": "python",
   "name": "python3"
  },
  "language_info": {
   "codemirror_mode": {
    "name": "ipython",
    "version": 3
   },
   "file_extension": ".py",
   "mimetype": "text/x-python",
   "name": "python",
   "nbconvert_exporter": "python",
   "pygments_lexer": "ipython3",
   "version": "3.9.16"
  }
 },
 "nbformat": 4,
 "nbformat_minor": 5
}
