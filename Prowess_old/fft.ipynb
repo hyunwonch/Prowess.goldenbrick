{
 "cells": [
  {
   "cell_type": "code",
   "execution_count": 1,
   "id": "16331571",
   "metadata": {},
   "outputs": [],
   "source": [
    "import numpy as np\n",
    "\n",
    "def fft(x):\n",
    "    \"\"\"\n",
    "    Standard FFT using numpy.\n",
    "    \"\"\"\n",
    "    x = np.asarray(x, dtype=np.complex64)\n",
    "    return np.fft.fft(x)\n",
    "\n",
    "def fft_serial(x):\n",
    "    \"\"\"\n",
    "    Serial FFT implementation (Cooley-Tukey radix-2 decimation-in-time).\n",
    "    Assumes len(x) is power of 2.\n",
    "    \"\"\"\n",
    "    x = np.asarray(x, dtype=np.complex64)\n",
    "    N = len(x)\n",
    "    levels = int(np.log2(N))\n",
    "\n",
    "    # Bit-reversal permutation\n",
    "    def bit_reverse(n, bits):\n",
    "        rev = 0\n",
    "        for _ in range(bits):\n",
    "            rev = (rev << 1) | (n & 1)\n",
    "            n >>= 1\n",
    "        return rev\n",
    "\n",
    "    reordered = np.zeros(N, dtype=np.complex64)\n",
    "    for i in range(N):\n",
    "        j = bit_reverse(i, levels)\n",
    "        reordered[j] = x[i]\n",
    "\n",
    "    # Butterfly\n",
    "    half_size = 1\n",
    "    while half_size < N:\n",
    "        phase_shift_step = np.exp(-2j * np.pi / (2 * half_size)).astype(np.complex64)\n",
    "        for k in range(0, N, 2 * half_size):\n",
    "            phase = 1.0 + 0.0j\n",
    "            for n in range(half_size):\n",
    "                i = k + n\n",
    "                j = i + half_size\n",
    "                temp = phase * reordered[j]\n",
    "                reordered[j] = reordered[i] - temp\n",
    "                reordered[i] = reordered[i] + temp\n",
    "                phase *= phase_shift_step\n",
    "        half_size *= 2\n",
    "\n",
    "    return reordered\n"
   ]
  },
  {
   "cell_type": "code",
   "execution_count": 2,
   "id": "45ae7d0a",
   "metadata": {},
   "outputs": [
    {
     "name": "stdout",
     "output_type": "stream",
     "text": [
      "FFT (numpy): [ 3.4722+0.j     -0.2765+0.0925j -0.926 -0.26j   -0.3694+0.1482j\n",
      "  0.4122+0.j     -0.3694-0.1482j -0.926 +0.26j   -0.2765-0.0925j]\n",
      "FFT (serial): [ 3.4722+0.j     -0.2765+0.0925j -0.926 -0.26j   -0.3694+0.1482j\n",
      "  0.4122+0.j     -0.3694-0.1482j -0.926 +0.26j   -0.2765-0.0925j]\n",
      "Same result? True\n"
     ]
    }
   ],
   "source": [
    "x = np.random.rand(8).astype(np.float16)  # 8-point real input\n",
    "ref = fft(x)\n",
    "ser = fft_serial(x)\n",
    "\n",
    "print(\"FFT (numpy):\", np.round(ref, 4))\n",
    "print(\"FFT (serial):\", np.round(ser, 4))\n",
    "print(\"Same result?\", np.allclose(ref, ser, atol=1e-3))\n"
   ]
  },
  {
   "cell_type": "code",
   "execution_count": null,
   "id": "4b30292e",
   "metadata": {},
   "outputs": [],
   "source": []
  }
 ],
 "metadata": {
  "kernelspec": {
   "display_name": "base",
   "language": "python",
   "name": "python3"
  },
  "language_info": {
   "codemirror_mode": {
    "name": "ipython",
    "version": 3
   },
   "file_extension": ".py",
   "mimetype": "text/x-python",
   "name": "python",
   "nbconvert_exporter": "python",
   "pygments_lexer": "ipython3",
   "version": "3.11.5"
  }
 },
 "nbformat": 4,
 "nbformat_minor": 5
}
