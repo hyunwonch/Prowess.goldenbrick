{
 "cells": [
  {
   "cell_type": "code",
   "execution_count": 23,
   "id": "b9a2a156",
   "metadata": {},
   "outputs": [],
   "source": [
    "import numpy as np\n",
    "import random\n",
    "\n",
    "from FPU import cmul, cadd\n",
    "from utils import conj, read_binary, binary_to_fp16, store_binary, generate_fp16, fp16_to_binary, int_to_binary, binary_to_int\n",
    "from ed import ed\n",
    "from hilbert import hilbert_manual_conv\n",
    "from auto_corr import auto_corr"
   ]
  },
  {
   "cell_type": "markdown",
   "id": "cd8776a0",
   "metadata": {},
   "source": [
    "# Basic functions"
   ]
  },
  {
   "cell_type": "code",
   "execution_count": 4,
   "id": "d68a2c1c",
   "metadata": {},
   "outputs": [],
   "source": [
    "def delayseq(data, lag: int, mode: str = \"zero\"):\n",
    "    \"\"\"\n",
    "    Apply delay (positive lag) or advance (negative lag) to a sequence.\n",
    "\n",
    "    Supports both:\n",
    "    - Real sequences (list of np.float16)\n",
    "    - Complex sequences (list of [real, imag] pairs)\n",
    "\n",
    "    Output length is always equal to the input length.\n",
    "\n",
    "    Args:\n",
    "        data: Input sequence (real or complex).\n",
    "        lag:  Number of samples to delay (positive) or advance (negative).\n",
    "        mode:\n",
    "            \"zero\" → fill shifted positions with zeros (default).\n",
    "            \"wrap\" → perform circular (cyclic) shift.\n",
    "\n",
    "    Returns:\n",
    "        Delayed (or advanced) sequence of the same length.\n",
    "    \"\"\"\n",
    "    if not data:\n",
    "        return []\n",
    "\n",
    "    # Detect if the input is complex\n",
    "    is_complex = isinstance(data[0], (list, tuple)) and len(data[0]) == 2\n",
    "    n = len(data)\n",
    "\n",
    "    # Circular shift mode\n",
    "    if mode == \"wrap\":\n",
    "        k = lag % n\n",
    "        return data[-k:] + data[:-k] if k != 0 else data.copy()\n",
    "\n",
    "    if mode != \"zero\":\n",
    "        raise ValueError('mode must be \"zero\" or \"wrap\"')\n",
    "\n",
    "    # Zero-fill mode\n",
    "    zero_val = [np.float16(0.0), np.float16(0.0)] if is_complex else np.float16(0.0)\n",
    "\n",
    "    # Positive lag → delay to the right (zeros at the front)\n",
    "    if lag > 0:\n",
    "        fill = [zero_val] * min(lag, n)\n",
    "        tail = data[: max(0, n - lag)]\n",
    "        return fill + tail\n",
    "\n",
    "    # No lag\n",
    "    if lag == 0:\n",
    "        return data.copy()\n",
    "\n",
    "    # Negative lag → advance to the left (zeros at the end)\n",
    "    lag_abs = min(-lag, n)\n",
    "    head = data[lag_abs:]\n",
    "    fill = [zero_val] * lag_abs\n",
    "    return head + fill"
   ]
  },
  {
   "cell_type": "code",
   "execution_count": 5,
   "id": "d7f2ab73",
   "metadata": {},
   "outputs": [],
   "source": [
    "# Square, Mean, Conj, Conv, Abs\n",
    "def square_complex(data_in):\n",
    "    data_out = []\n",
    "    for idx, val in enumerate(data_in):\n",
    "        real = val[0]\n",
    "        imag = val[1]\n",
    "\n",
    "        real_out = real*real - imag*imag\n",
    "        imag_out = 2*real*imag\n",
    "        data_out.append([real_out, imag_out])\n",
    "    return data_out\n",
    "\n",
    "def mean_complex(data_in):\n",
    "    real_out = np.float16(0)\n",
    "    imag_out = np.float16(0)\n",
    "    for idx, val in enumerate(data_in):\n",
    "        real = val[0]\n",
    "        imag = val[1]\n",
    "\n",
    "        real_out += real\n",
    "        imag_out += imag\n",
    "    data_out = [real_out/len(data_in), imag_out/len(data_in)]\n",
    "    return data_out\n",
    "\n",
    "def conj(data_in):\n",
    "    data_out = []\n",
    "    for idx, val in enumerate(data_in):\n",
    "        real = val[0]\n",
    "        imag = val[1]\n",
    "\n",
    "        real_out = real\n",
    "        imag_out = -imag\n",
    "        data_out.append([real_out, imag_out])\n",
    "    return data_out\n",
    "\n",
    "def abs_complex(data_in):\n",
    "    data_out = []\n",
    "    for idx, val in enumerate(data_in):\n",
    "        real = val[0]\n",
    "        imag = val[1]\n",
    "\n",
    "        real_out = np.float16(real*real + imag*imag)\n",
    "        imag_out = np.float16(0)\n",
    "        data_out.append([real_out, imag_out])\n",
    "    return data_out"
   ]
  },
  {
   "cell_type": "markdown",
   "id": "4783d1af",
   "metadata": {},
   "source": [
    "# Default Values"
   ]
  },
  {
   "cell_type": "code",
   "execution_count": 6,
   "id": "2bf36e96",
   "metadata": {},
   "outputs": [],
   "source": [
    "sample = generate_fp16(64, complex=True)"
   ]
  },
  {
   "cell_type": "markdown",
   "id": "22c38b94",
   "metadata": {},
   "source": [
    "# OFDM Estimation"
   ]
  },
  {
   "cell_type": "code",
   "execution_count": null,
   "id": "71bc6381",
   "metadata": {},
   "outputs": [],
   "source": []
  },
  {
   "cell_type": "markdown",
   "id": "42d407b9",
   "metadata": {},
   "source": [
    "## CP Detect"
   ]
  },
  {
   "cell_type": "code",
   "execution_count": null,
   "id": "993d94fa",
   "metadata": {},
   "outputs": [
    {
     "name": "stdout",
     "output_type": "stream",
     "text": [
      "[np.float16(11.125), np.float16(4.375)]\n"
     ]
    }
   ],
   "source": [
    "# Lagging & Auto-correlation\n",
    "\n",
    "cp_output = auto_corr(sample, 4)\n",
    "print(cp_output)"
   ]
  },
  {
   "cell_type": "code",
   "execution_count": null,
   "id": "1d1b9398",
   "metadata": {},
   "outputs": [],
   "source": []
  },
  {
   "cell_type": "code",
   "execution_count": null,
   "id": "8b4731cb",
   "metadata": {},
   "outputs": [],
   "source": []
  },
  {
   "cell_type": "code",
   "execution_count": null,
   "id": "160bf0cb",
   "metadata": {},
   "outputs": [],
   "source": []
  },
  {
   "cell_type": "code",
   "execution_count": null,
   "id": "4398824d",
   "metadata": {},
   "outputs": [],
   "source": []
  },
  {
   "cell_type": "markdown",
   "id": "bc6f327a",
   "metadata": {},
   "source": [
    "## IA"
   ]
  },
  {
   "cell_type": "code",
   "execution_count": null,
   "id": "f794a55d",
   "metadata": {},
   "outputs": [
    {
     "ename": "ValueError",
     "evalue": "object too deep for desired array",
     "output_type": "error",
     "traceback": [
      "\u001b[0;31m---------------------------------------------------------------------------\u001b[0m",
      "\u001b[0;31mValueError\u001b[0m                                Traceback (most recent call last)",
      "Cell \u001b[0;32mIn[22], line 1\u001b[0m\n\u001b[0;32m----> 1\u001b[0m y \u001b[38;5;241m=\u001b[39m hilbert_manual_conv(sample, filter_len\u001b[38;5;241m=\u001b[39m\u001b[38;5;241m16\u001b[39m)\n",
      "File \u001b[0;32m~/Git/Prowess.goldenbrick/kernel/hilbert.py:30\u001b[0m, in \u001b[0;36mhilbert_manual_conv\u001b[0;34m(x, filter_len)\u001b[0m\n\u001b[1;32m     28\u001b[0m         h[i] \u001b[38;5;241m=\u001b[39m \u001b[38;5;241m2\u001b[39m \u001b[38;5;241m/\u001b[39m (np\u001b[38;5;241m.\u001b[39mpi \u001b[38;5;241m*\u001b[39m ni)\n\u001b[1;32m     29\u001b[0m x_padded \u001b[38;5;241m=\u001b[39m np\u001b[38;5;241m.\u001b[39mpad(x_real, (filter_len \u001b[38;5;241m/\u001b[39m\u001b[38;5;241m/\u001b[39m \u001b[38;5;241m2\u001b[39m, filter_len \u001b[38;5;241m/\u001b[39m\u001b[38;5;241m/\u001b[39m \u001b[38;5;241m2\u001b[39m), mode\u001b[38;5;241m=\u001b[39m\u001b[38;5;124m'\u001b[39m\u001b[38;5;124mreflect\u001b[39m\u001b[38;5;124m'\u001b[39m)\n\u001b[0;32m---> 30\u001b[0m x_hilbert \u001b[38;5;241m=\u001b[39m np\u001b[38;5;241m.\u001b[39mconvolve(x_padded, h, mode\u001b[38;5;241m=\u001b[39m\u001b[38;5;124m'\u001b[39m\u001b[38;5;124mvalid\u001b[39m\u001b[38;5;124m'\u001b[39m)\n\u001b[1;32m     32\u001b[0m \u001b[38;5;66;03m# Reconstruct analytic signal: real + j·hilbert\u001b[39;00m\n\u001b[1;32m     33\u001b[0m z \u001b[38;5;241m=\u001b[39m x_real \u001b[38;5;241m+\u001b[39m \u001b[38;5;241m1\u001b[39mj \u001b[38;5;241m*\u001b[39m x_hilbert\n",
      "File \u001b[0;32m/opt/anaconda3/lib/python3.13/site-packages/numpy/_core/numeric.py:889\u001b[0m, in \u001b[0;36mconvolve\u001b[0;34m(a, v, mode)\u001b[0m\n\u001b[1;32m    887\u001b[0m \u001b[38;5;28;01mif\u001b[39;00m \u001b[38;5;28mlen\u001b[39m(v) \u001b[38;5;241m==\u001b[39m \u001b[38;5;241m0\u001b[39m:\n\u001b[1;32m    888\u001b[0m     \u001b[38;5;28;01mraise\u001b[39;00m \u001b[38;5;167;01mValueError\u001b[39;00m(\u001b[38;5;124m'\u001b[39m\u001b[38;5;124mv cannot be empty\u001b[39m\u001b[38;5;124m'\u001b[39m)\n\u001b[0;32m--> 889\u001b[0m \u001b[38;5;28;01mreturn\u001b[39;00m multiarray\u001b[38;5;241m.\u001b[39mcorrelate(a, v[::\u001b[38;5;241m-\u001b[39m\u001b[38;5;241m1\u001b[39m], mode)\n",
      "\u001b[0;31mValueError\u001b[0m: object too deep for desired array"
     ]
    }
   ],
   "source": [
    "# Need to modify the function to match the input format\n",
    "\n",
    "y = hilbert_manual_conv(sample, filter_len=16)\n",
    "output = abs_complex(y)"
   ]
  },
  {
   "cell_type": "code",
   "execution_count": null,
   "id": "6b23821b",
   "metadata": {},
   "outputs": [],
   "source": []
  },
  {
   "cell_type": "code",
   "execution_count": null,
   "id": "977a1969",
   "metadata": {},
   "outputs": [],
   "source": []
  },
  {
   "cell_type": "markdown",
   "id": "0667862e",
   "metadata": {},
   "source": [
    "## QAM Estimation\n",
    "- Mostly equalization\n",
    "- Not implemented in Matlab\n",
    "- Mapping is not implemented"
   ]
  },
  {
   "cell_type": "code",
   "execution_count": 16,
   "id": "5d072720",
   "metadata": {},
   "outputs": [],
   "source": [
    "# ============================================================\n",
    "# QAM Estimation (Equalization) Example - Full fp16 Precision\n",
    "# ============================================================\n",
    "# Theory Overview:\n",
    "# ------------------------------------------------------------\n",
    "# In digital communication systems, when a symbol x is transmitted\n",
    "# through a complex channel H, the received signal is:\n",
    "#\n",
    "#       y = H * x + n\n",
    "#\n",
    "# where:\n",
    "#   y : received complex symbol\n",
    "#   H : complex channel coefficient (amplitude & phase distortion)\n",
    "#   n : additive complex Gaussian noise (AWGN)\n",
    "#\n",
    "# The receiver wants to estimate the transmitted symbol x from y.\n",
    "# The estimation process removes the channel effect and reduces\n",
    "# noise impact.\n",
    "#\n",
    "# Two major linear estimators:\n",
    "#   1) Zero Forcing (ZF):\n",
    "#        x_hat = y / H = (y * conj(H)) / |H|^2\n",
    "#      - Cancels the channel distortion perfectly.\n",
    "#      - Sensitive to noise (especially when |H| is small).\n",
    "#\n",
    "#   2) Minimum Mean Square Error (MMSE):\n",
    "#        x_hat = (conj(H) * y) / (|H|^2 + N0)\n",
    "#      - Adds noise regularization term (N0 = noise variance).\n",
    "#      - Provides better robustness under low SNR conditions.\n",
    "#\n",
    "# Both yield a *soft* complex estimate x_hat, which can later\n",
    "# be quantized to the nearest constellation point during\n",
    "# symbol detection or demodulation.\n",
    "# ------------------------------------------------------------"
   ]
  },
  {
   "cell_type": "code",
   "execution_count": 13,
   "id": "0e93ffdb",
   "metadata": {},
   "outputs": [],
   "source": [
    "x_pairs = sample  # alias to emphasize we keep the format\n",
    "\n",
    "# Average symbol energy Es in fp16: mean(r^2 + i^2)\n",
    "Es = np.float16(0.0)\n",
    "for r, i in x_pairs:\n",
    "    Es += np.float16(r*r + i*i)\n",
    "Es = np.float16(Es / np.float16(64))\n",
    "\n",
    "\n",
    "hr = np.float16(0.7)\n",
    "hi = np.float16(0.5)\n",
    "\n",
    "snr_db = np.float16(18.0)\n",
    "snr_lin = np.float16(10.0) ** np.float16(snr_db / np.float16(10.0))\n",
    "noise_var = np.float16(Es / snr_lin)           # N0 per complex symbol\n",
    "noise_std = np.float16(np.sqrt(noise_var / np.float16(2.0)))  # per real/imag\n",
    "\n",
    "rng = np.random.default_rng(1)\n",
    "# Gaussian noise in fp16\n",
    "n_real = rng.standard_normal(64).astype(np.float16) * noise_std\n",
    "n_imag = rng.standard_normal(64).astype(np.float16) * noise_std\n",
    "n_pairs = [[np.float16(n_real[k]), np.float16(n_imag[k])] for k in range(64)]\n",
    "\n",
    "# Pass through channel and add noise: y = H*x + n (all in fp16 and pair format)\n",
    "y_pairs = []\n",
    "for k in range(64):\n",
    "    xr = np.float16(x_pairs[k][0])\n",
    "    xi = np.float16(x_pairs[k][1])\n",
    "    # Complex multiply (hr + j*hi) * (xr + j*xi)\n",
    "    yr = np.float16(hr * xr - hi * xi)\n",
    "    yi = np.float16(hr * xi + hi * xr)\n",
    "    # Add noise\n",
    "    yr = np.float16(yr + n_pairs[k][0])\n",
    "    yi = np.float16(yi + n_pairs[k][1])\n",
    "    y_pairs.append([yr, yi])\n",
    "\n",
    "# -----------------------------\n",
    "# 3) Estimation (Equalization) in fp16: choose METHOD = \"zf\" or \"mmse\"\n",
    "#    ZF:   x_hat = y / H = (y * conj(H)) / |H|^2\n",
    "#    MMSE: x_hat = (conj(H) * y) / (|H|^2 + N0)\n",
    "# -----------------------------\n",
    "METHOD = \"mmse\"  # change to \"zf\" for Zero-Forcing\n",
    "\n",
    "# Precompute conj(H) and |H|^2 in fp16\n",
    "H_conj = [hr, np.float16(-hi)]\n",
    "H_abs2 = np.float16(hr*hr + hi*hi)\n",
    "eps = np.float16(1e-4)  # small epsilon for safety in fp16\n",
    "\n",
    "x_hat_pairs = []\n",
    "if METHOD.lower() == \"zf\":\n",
    "    denom = np.float16(H_abs2 + eps)\n",
    "    for k in range(64):\n",
    "        yr, yi = np.float16(y_pairs[k][0]), np.float16(y_pairs[k][1])\n",
    "        # (yr + j*yi) * (hr - j*hi)\n",
    "        num_r = np.float16(yr * H_conj[0] - yi * H_conj[1])\n",
    "        num_i = np.float16(yr * H_conj[1] + yi * H_conj[0])\n",
    "        xr_hat = np.float16(num_r / denom)\n",
    "        xi_hat = np.float16(num_i / denom)\n",
    "        x_hat_pairs.append([xr_hat, xi_hat])\n",
    "\n",
    "elif METHOD.lower() == \"mmse\":\n",
    "    denom = np.float16(H_abs2 + noise_var)\n",
    "    for k in range(64):\n",
    "        yr, yi = np.float16(y_pairs[k][0]), np.float16(y_pairs[k][1])\n",
    "        # (hr - j*hi) * (yr + j*yi)\n",
    "        num_r = np.float16(H_conj[0] * yr - H_conj[1] * yi)\n",
    "        num_i = np.float16(H_conj[0] * yi + H_conj[1] * yr)\n",
    "        xr_hat = np.float16(num_r / denom)\n",
    "        xi_hat = np.float16(num_i / denom)\n",
    "        x_hat_pairs.append([xr_hat, xi_hat])\n"
   ]
  },
  {
   "cell_type": "markdown",
   "id": "11c2380a",
   "metadata": {},
   "source": [
    "# PSK Classficiation"
   ]
  },
  {
   "cell_type": "code",
   "execution_count": 18,
   "id": "a73b0d77",
   "metadata": {},
   "outputs": [
    {
     "name": "stdout",
     "output_type": "stream",
     "text": [
      "C20 = [np.float16(0.1454), np.float16(0.127)]\n",
      "C40 = [np.float16(-0.4133), np.float16(0.1462)]\n"
     ]
    }
   ],
   "source": [
    "# ----------------------------------------\n",
    "# Step 1. Zero-mean (remove average)\n",
    "# ----------------------------------------\n",
    "# Compute mean value\n",
    "sample_mean = mean_complex(sample)\n",
    "# Subtract mean from each sample\n",
    "sample_zm = []\n",
    "for val in sample:\n",
    "    sample_zm.append([np.float16(val[0]-sample_mean[0]), np.float16(val[1]-sample_mean[1])])\n",
    "\n",
    "# ----------------------------------------\n",
    "# Step 2. Normalize to unit power\n",
    "# ----------------------------------------\n",
    "# Compute |sample|^2 for each element\n",
    "abs_sq = abs_complex(sample_zm)\n",
    "# Compute mean power\n",
    "pwr_mean = mean_complex(abs_sq)\n",
    "power = np.float16(np.sqrt(pwr_mean[0] + 1e-6))\n",
    "\n",
    "# Normalize signal\n",
    "sample_n = []\n",
    "for val in sample_zm:\n",
    "    sample_n.append([np.float16(val[0]/power), np.float16(val[1]/power)])\n",
    "\n",
    "# ----------------------------------------\n",
    "# Step 3. Compute m20 and m40\n",
    "# ----------------------------------------\n",
    "# m20 = E[x^2]\n",
    "sample_sq = square_complex(sample_n)\n",
    "m20 = mean_complex(sample_sq)\n",
    "\n",
    "# m40 = E[x^4]\n",
    "sample_4 = square_complex(sample_sq)\n",
    "m40 = mean_complex(sample_4)\n",
    "\n",
    "# ----------------------------------------\n",
    "# Step 4. Compute C20 and C40\n",
    "# ----------------------------------------\n",
    "# C20 = m20\n",
    "C20 = m20\n",
    "\n",
    "# C40 = m40 - 3*(m20)^2\n",
    "m20_sq_real = np.float16(m20[0]*m20[0] - m20[1]*m20[1])\n",
    "m20_sq_imag = np.float16(2*m20[0]*m20[1])\n",
    "\n",
    "C40_real = np.float16(m40[0] - 3*m20_sq_real)\n",
    "C40_imag = np.float16(m40[1] - 3*m20_sq_imag)\n",
    "C40 = [C40_real, C40_imag]\n",
    "\n",
    "# ----------------------------------------\n",
    "# Step 5. Print results\n",
    "# ----------------------------------------\n",
    "print(\"C20 =\", C20)\n",
    "print(\"C40 =\", C40)"
   ]
  },
  {
   "cell_type": "markdown",
   "id": "ab9c743a",
   "metadata": {},
   "source": [
    "# Chirp Detection & Estimation"
   ]
  },
  {
   "cell_type": "code",
   "execution_count": null,
   "id": "b481683f",
   "metadata": {},
   "outputs": [],
   "source": []
  }
 ],
 "metadata": {
  "kernelspec": {
   "display_name": "base",
   "language": "python",
   "name": "python3"
  },
  "language_info": {
   "codemirror_mode": {
    "name": "ipython",
    "version": 3
   },
   "file_extension": ".py",
   "mimetype": "text/x-python",
   "name": "python",
   "nbconvert_exporter": "python",
   "pygments_lexer": "ipython3",
   "version": "3.13.5"
  }
 },
 "nbformat": 4,
 "nbformat_minor": 5
}
