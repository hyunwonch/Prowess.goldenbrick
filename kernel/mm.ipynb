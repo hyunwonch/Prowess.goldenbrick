{
 "cells": [
  {
   "cell_type": "code",
   "execution_count": 1,
   "id": "6f817377",
   "metadata": {},
   "outputs": [],
   "source": [
    "# Import necessary Library\n",
    "import numpy as np\n",
    "import random\n",
    "import os\n",
    "import sys\n",
    "from FPU import cmul, cadd\n",
    "from utils import read_binary, binary_to_fp16, store_binary, generate_fp16"
   ]
  },
  {
   "cell_type": "code",
   "execution_count": 2,
   "id": "30145ccb",
   "metadata": {},
   "outputs": [],
   "source": [
    "def generate_matrix(rows, cols, complex=False, seed=123):\n",
    "    \"\"\"\n",
    "    Generate an (rows x cols) matrix using generate_fp16().\n",
    "    \"\"\"\n",
    "    vec = generate_fp16(size=rows * cols, complex=complex, seed=seed)\n",
    "    mat = []\n",
    "    idx = 0\n",
    "    for _ in range(rows):\n",
    "        row = []\n",
    "        for _ in range(cols):\n",
    "            row.append(vec[idx])\n",
    "            idx += 1\n",
    "        mat.append(row)\n",
    "    return mat\n",
    "\n",
    "def matmul(A_mat, B_mat, use_complex=True):\n",
    "    \"\"\"\n",
    "    Multiply A(MxK) by B(KxN) column-by-column.\n",
    "    For each column of B, produce the corresponding column of C.\n",
    "    Complex multiply/add uses cmul and cadd.\n",
    "\n",
    "    Args:\n",
    "        A_mat: list of list of elements (real or [re, im])\n",
    "        B_mat: list of list of elements (real or [re, im])\n",
    "        use_complex: True if A and B are complex-valued\n",
    "\n",
    "    Returns:\n",
    "        C_mat: list of list, same format as A/B (real or complex),\n",
    "               with shape MxN\n",
    "    \"\"\"\n",
    "    M = len(A_mat)\n",
    "    K = len(A_mat[0])\n",
    "    N = len(B_mat[0])\n",
    "\n",
    "    print(M, K, N)\n",
    "\n",
    "    C_mat = []\n",
    "    for i in range(M):\n",
    "        # initialize each row as empty list\n",
    "        C_mat.append([])\n",
    "\n",
    "    for col in range(N):\n",
    "        # process one column of B at a time\n",
    "        for i in range(M):\n",
    "            if use_complex:\n",
    "                acc = [np.float16(0.0), np.float16(0.0)]\n",
    "                for k in range(K):\n",
    "                    prod = cmul(A_mat[i][k], B_mat[k][col])\n",
    "                    acc = cadd(acc, prod)\n",
    "                C_mat[i].append([np.float16(acc[0]), np.float16(acc[1])])\n",
    "            else:\n",
    "                acc = np.float16(0.0)\n",
    "                for k in range(K):\n",
    "                    acc = np.float16(acc + np.float16(A_mat[i][k] * B_mat[k][col]))\n",
    "                C_mat[i].append(np.float16(acc))\n",
    "    return C_mat\n",
    "\n",
    "def flatten_matrix_row_major(mat, complex=False):\n",
    "    \"\"\"\n",
    "    Row-major flatten:\n",
    "        index(A[i][j]) = i*cols + j\n",
    "    For complex=True, each element is [re, im] (np.float16).\n",
    "    \"\"\"\n",
    "    flat = []\n",
    "    for row in mat:\n",
    "        for x in row:\n",
    "            flat.append(x)\n",
    "    return flat\n",
    "\n",
    "def flatten_matrix_col_major(mat, complex=False):\n",
    "    \"\"\"\n",
    "    Column-major flatten:\n",
    "        index(A[i][j]) = j*rows + i\n",
    "    For complex=True, each element is [re, im] (np.float16).\n",
    "    \"\"\"\n",
    "    flat = []\n",
    "    rows = len(mat)\n",
    "    cols = len(mat[0])\n",
    "\n",
    "    for c in range(cols):\n",
    "        for r in range(rows):\n",
    "            flat.append(mat[r][c])\n",
    "    return flat"
   ]
  },
  {
   "cell_type": "markdown",
   "id": "5d58a037",
   "metadata": {},
   "source": [
    "# Single PE"
   ]
  },
  {
   "cell_type": "markdown",
   "id": "a9e60bd4",
   "metadata": {},
   "source": [
    "## Vector Vector Multiplication"
   ]
  },
  {
   "cell_type": "code",
   "execution_count": 100,
   "id": "974a98be",
   "metadata": {},
   "outputs": [
    {
     "name": "stdout",
     "output_type": "stream",
     "text": [
      "1 128 1\n"
     ]
    }
   ],
   "source": [
    "M = 1   # Rows in A\n",
    "K = 128   # Cols in A / Rows in B\n",
    "N = 1   # Cols in B\n",
    "use_complex = True  # Set False for real-valued matmul\n",
    "\n",
    "A_mat = generate_matrix(M, K, complex=use_complex, seed=101)\n",
    "B_mat = generate_matrix(K, N, complex=use_complex, seed=202)\n",
    "\n",
    "C_mat = matmul(A_mat, B_mat, use_complex=use_complex)"
   ]
  },
  {
   "cell_type": "code",
   "execution_count": 97,
   "id": "20bc1df5",
   "metadata": {},
   "outputs": [
    {
     "data": {
      "text/plain": [
       "[[[-22.42, 45.88]]]"
      ]
     },
     "execution_count": 97,
     "metadata": {},
     "output_type": "execute_result"
    }
   ],
   "source": [
    "A_flat_row = flatten_matrix_row_major(A_mat, complex=use_complex)\n",
    "B_flat_col = flatten_matrix_col_major(B_mat, complex=use_complex)\n",
    "C_mat"
   ]
  },
  {
   "cell_type": "code",
   "execution_count": 63,
   "id": "dc927090",
   "metadata": {},
   "outputs": [],
   "source": [
    "A_flat_row = flatten_matrix_row_major(A_mat)\n",
    "store_binary(A_flat_row, \"../PE/DATA/mm_input.txt\")\n",
    "store_binary(B_flat_col, \"../PE/DATA/mm_weight.txt\")\n",
    "store_binary(C_mat[0], \"../PE/DATA/mm_output.txt\")"
   ]
  },
  {
   "cell_type": "code",
   "execution_count": 117,
   "id": "0deb483f",
   "metadata": {},
   "outputs": [
    {
     "data": {
      "text/plain": [
       "[[1.292, 0.9346], [0.2283, -0.4058]]"
      ]
     },
     "execution_count": 117,
     "metadata": {},
     "output_type": "execute_result"
    }
   ],
   "source": [
    "B_mat[0]"
   ]
  },
  {
   "cell_type": "markdown",
   "id": "803ec605",
   "metadata": {},
   "source": [
    "## Vector & Two column Multiplication in the single PE"
   ]
  },
  {
   "cell_type": "code",
   "execution_count": 3,
   "id": "2e8fb8dc",
   "metadata": {},
   "outputs": [
    {
     "name": "stdout",
     "output_type": "stream",
     "text": [
      "1 128 2\n"
     ]
    }
   ],
   "source": [
    "M = 1   # Rows in A\n",
    "K = 128   # Cols in A / Rows in B\n",
    "N = 2   # Cols in B\n",
    "use_complex = True  # Set False for real-valued matmul\n",
    "\n",
    "A_mat = generate_matrix(M, K, complex=use_complex, seed=101)\n",
    "B_mat = generate_matrix(K, N, complex=use_complex, seed=202)\n",
    "\n",
    "C_mat = matmul(A_mat, B_mat, use_complex=use_complex)\n",
    "\n",
    "A_flat_row = flatten_matrix_row_major(A_mat, complex=use_complex)\n",
    "B_flat_col = flatten_matrix_col_major(B_mat, complex=use_complex)\n",
    "C_flat_col = flatten_matrix_row_major(C_mat, complex=use_complex)"
   ]
  },
  {
   "cell_type": "code",
   "execution_count": 93,
   "id": "0a9657c7",
   "metadata": {},
   "outputs": [
    {
     "data": {
      "text/plain": [
       "[[[-10.57, 81.3], [0.8574, 57.66]]]"
      ]
     },
     "execution_count": 93,
     "metadata": {},
     "output_type": "execute_result"
    }
   ],
   "source": [
    "C_mat"
   ]
  },
  {
   "cell_type": "code",
   "execution_count": 84,
   "id": "0f5fe04c",
   "metadata": {},
   "outputs": [
    {
     "data": {
      "text/plain": [
       "[[-10.57, 81.3], [0.8574, 57.66]]"
      ]
     },
     "execution_count": 84,
     "metadata": {},
     "output_type": "execute_result"
    }
   ],
   "source": [
    "C_flat_col"
   ]
  },
  {
   "cell_type": "code",
   "execution_count": 76,
   "id": "04048488",
   "metadata": {},
   "outputs": [],
   "source": [
    "store_binary(A_flat_row, \"../PE/DATA/mm2_input.txt\")\n",
    "store_binary(B_flat_col, \"../PE/DATA/mm2_weight.txt\")\n",
    "store_binary(C_flat_col, \"../PE/DATA/mm2_output.txt\")"
   ]
  },
  {
   "cell_type": "markdown",
   "id": "efae07c9",
   "metadata": {},
   "source": [
    "# Multiple PE"
   ]
  },
  {
   "cell_type": "markdown",
   "id": "ff55c414",
   "metadata": {},
   "source": [
    "# Vector Matrix Multiplication (each row of PE array)"
   ]
  },
  {
   "cell_type": "code",
   "execution_count": 3,
   "id": "2e21d6e7",
   "metadata": {},
   "outputs": [
    {
     "name": "stdout",
     "output_type": "stream",
     "text": [
      "1 128\n",
      "128 22\n"
     ]
    }
   ],
   "source": [
    "# For B Matrix, two column go to each PE\n",
    "\n",
    "M = 1       # Rows in A\n",
    "K = 128     # Cols in A / Rows in B\n",
    "N = 22      # Cols in B\n",
    "use_complex = True  # Set False for real-valued matmul\n",
    "\n",
    "A_mat = generate_matrix(M, K, complex=use_complex, seed=101)\n",
    "B_mat = generate_matrix(K, N, complex=use_complex, seed=202)\n",
    "\n",
    "print(len(A_mat), len(A_mat[0]))\n",
    "print(len(B_mat), len(B_mat[0]))"
   ]
  },
  {
   "cell_type": "code",
   "execution_count": 4,
   "id": "c5d051ec",
   "metadata": {},
   "outputs": [
    {
     "name": "stdout",
     "output_type": "stream",
     "text": [
      "1 128 22\n"
     ]
    }
   ],
   "source": [
    "C_mat = matmul(A_mat, B_mat, use_complex=use_complex)\n",
    "\n",
    "C_mat\n",
    "\n",
    "def save_Cmat_outputs(C_mat, out_dir=\"../PE/DATA\"):\n",
    "    \"\"\"\n",
    "    Split C_mat (M x N) into 11 PE outputs.\n",
    "    Each PE gets 2 consecutive columns concatenated together.\n",
    "    For PE i, output format:\n",
    "        [col0 (M), col1 (M)]\n",
    "        => length = 2*M\n",
    "    \"\"\"\n",
    "    M = len(C_mat)             # rows\n",
    "    N = len(C_mat[0])          # cols\n",
    "    assert N == 22, \"C_mat must have 22 columns (for 11 PEs).\"\n",
    "    num_PEs = N // 2\n",
    "\n",
    "    for pe in range(num_PEs):\n",
    "        c0 = 2 * pe\n",
    "        c1 = 2 * pe + 1\n",
    "\n",
    "        # Extract two columns\n",
    "        col0 = [C_mat[r][c0] for r in range(M)]\n",
    "        col1 = [C_mat[r][c1] for r in range(M)]\n",
    "\n",
    "        # Concatenate (no zero padding)\n",
    "        payload = col0 + col1   # length = 2*M\n",
    "\n",
    "        # Save file\n",
    "        out_path = f\"{out_dir}/mm_{pe}_output.txt\"\n",
    "        store_binary(payload, out_path)\n",
    "\n",
    "save_Cmat_outputs(C_mat)"
   ]
  },
  {
   "cell_type": "code",
   "execution_count": null,
   "id": "c9407174",
   "metadata": {},
   "outputs": [],
   "source": []
  },
  {
   "cell_type": "code",
   "execution_count": 5,
   "id": "55471b79",
   "metadata": {},
   "outputs": [],
   "source": [
    "# Assumptions:\n",
    "# - B_mat is a K x N 2D list\n",
    "# - Each element is either:\n",
    "#     (a) real-valued: a float (use_complex=False), or\n",
    "#     (b) complex-valued: [re, im] pair (use_complex=True)\n",
    "# - store_binary(vec, path) writes a 1D list `vec` to `path`\n",
    "# - N == 22 so there are 11 PEs, and each PE gets two consecutive columns.\n",
    "\n",
    "def save_Bmat_as_weights_for_PEs(B_mat, use_complex=True, out_dir=\"../PE/DATA\"):\n",
    "    \"\"\"\n",
    "    Split B_mat (K x N) into 11 PE weight files.\n",
    "    For PE i, take columns (2*i) and (2*i+1) and store:\n",
    "        [col0 (K), zeros (K), col1 (K), zeros (K)]  --> total length = 4*K\n",
    "    \"\"\"\n",
    "    # --- Basic shape checks ---\n",
    "    K = len(B_mat)                 # rows\n",
    "    assert K > 0, \"B_mat must have at least 1 row.\"\n",
    "    N = len(B_mat[0])              # cols\n",
    "    for r in range(1, K):\n",
    "        assert len(B_mat[r]) == N, \"All rows of B_mat must have the same length.\"\n",
    "\n",
    "    assert N == 22, \"This helper expects N == 22 (11 PEs, 2 cols each).\"\n",
    "    num_PEs = N // 2\n",
    "    assert num_PEs == 11, \"N must be 22 so that there are exactly 11 PEs.\"\n",
    "\n",
    "    # --- Zero template per data type ---\n",
    "    # For complex -> [0.0, 0.0], for real -> 0.0\n",
    "    def make_zero():\n",
    "        return [0.0, 0.0] if use_complex else 0.0\n",
    "\n",
    "    # --- Build and store payload per PE ---\n",
    "    for pe in range(num_PEs):\n",
    "        c0 = 2 * pe\n",
    "        c1 = 2 * pe + 1\n",
    "\n",
    "        # Extract two columns\n",
    "        col0 = [B_mat[r][c0] for r in range(K)]   # length K\n",
    "        col1 = [B_mat[r][c1] for r in range(K)]   # length K\n",
    "\n",
    "        print(r, c0, c1)\n",
    "\n",
    "        # Build zeros (K entries), making fresh objects (no shared refs)\n",
    "        zeros = [make_zero() for _ in range(K)]\n",
    "\n",
    "        # Concatenate as: col0, zeros, col1, zeros  -> total length 4*K = 512 (when K=128)\n",
    "        # payload = col0 + zeros + col1 + zeros\n",
    "        payload = col0 + col1 + col1 + col0\n",
    "\n",
    "        # File path: ../PE/DATA/mm{0..10}_weight.txt\n",
    "        out_path = f\"{out_dir}/mm_{pe}_weight.txt\"\n",
    "        store_binary(payload, out_path)\n"
   ]
  },
  {
   "cell_type": "code",
   "execution_count": 6,
   "id": "3029f775",
   "metadata": {},
   "outputs": [
    {
     "name": "stdout",
     "output_type": "stream",
     "text": [
      "127 0 1\n",
      "127 2 3\n",
      "127 4 5\n",
      "127 6 7\n",
      "127 8 9\n",
      "127 10 11\n",
      "127 12 13\n",
      "127 14 15\n",
      "127 16 17\n",
      "127 18 19\n",
      "127 20 21\n"
     ]
    }
   ],
   "source": [
    "save_Bmat_as_weights_for_PEs(B_mat)"
   ]
  },
  {
   "cell_type": "code",
   "execution_count": 7,
   "id": "4010a844",
   "metadata": {},
   "outputs": [
    {
     "name": "stdout",
     "output_type": "stream",
     "text": [
      "1\n",
      "2\n",
      "3\n",
      "4\n",
      "5\n",
      "6\n",
      "7\n",
      "8\n",
      "9\n",
      "10\n"
     ]
    }
   ],
   "source": [
    "\n",
    "A_mat_flat = flatten_matrix_row_major(A_mat)\n",
    "# for i in range(11):\n",
    "#     store_binary(A_mat_flat, f'../PE/DATA/mm_{i}_input.txt', zero_padding=i)\n",
    "\n",
    "for i in range(1, 11):\n",
    "    print(i)\n",
    "    store_binary(A_mat_flat, f'../PE/DATA/mm_{i}_input.txt', zero_padding=i-1)"
   ]
  },
  {
   "cell_type": "code",
   "execution_count": null,
   "id": "cbaadc77",
   "metadata": {},
   "outputs": [],
   "source": []
  }
 ],
 "metadata": {
  "kernelspec": {
   "display_name": "hw",
   "language": "python",
   "name": "python3"
  },
  "language_info": {
   "codemirror_mode": {
    "name": "ipython",
    "version": 3
   },
   "file_extension": ".py",
   "mimetype": "text/x-python",
   "name": "python",
   "nbconvert_exporter": "python",
   "pygments_lexer": "ipython3",
   "version": "3.9.16"
  }
 },
 "nbformat": 4,
 "nbformat_minor": 5
}
