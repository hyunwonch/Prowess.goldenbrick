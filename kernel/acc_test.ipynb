{
 "cells": [
  {
   "cell_type": "code",
   "execution_count": null,
   "id": "631c10f3",
   "metadata": {},
   "outputs": [],
   "source": [
    "from SIM.golden_model_kernel.FPU import cmac\n",
    "import sys\n",
    "from acc import acc\n",
    "\n",
    "import numpy as np\n",
    "import random\n",
    "import math\n"
   ]
  },
  {
   "cell_type": "code",
   "execution_count": 16,
   "id": "9c5707d1",
   "metadata": {},
   "outputs": [],
   "source": [
    "def why(A):\n",
    "    acc_real = A[0][0]\n",
    "    acc_imag = A[0][1]\n",
    "    for i in range(len(A)-1):\n",
    "        real = A[i+1][0]\n",
    "        imag = A[i+1][1]\n",
    "        if type(real) is not np.float16 or type(imag) is not np.float16:\n",
    "            print(type(real), type(imag))\n",
    "            raise TypeError(\"Input must be a list of np.float16 pairs.\")\n",
    "        acc_real, acc_imag = cmac([acc_real, acc_imag], [real, imag])\n",
    "        print(acc_real, acc_imag)\n",
    "    return [acc_real, acc_imag]\n"
   ]
  },
  {
   "cell_type": "code",
   "execution_count": 34,
   "id": "4b9d7caf",
   "metadata": {},
   "outputs": [],
   "source": [
    "input_signal = [ [np.float16(random.random()) for _ in range(2)] for _ in range(50) ]\n",
    "\n",
    "def save_2d_float16_binary_txt(float_2d_list, filename='input.txt'):\n",
    "    \"\"\"\n",
    "    2차원 float 리스트를 받아서 각 줄에 [i][0] [i][1]를\n",
    "    float16 binary string으로 변환 후 'binary0 binary1' 형식으로 저장합니다.\n",
    "    \"\"\"\n",
    "    with open(filename, 'w') as f:\n",
    "        for row in float_2d_list:\n",
    "            bin_0 = format(np.float16(row[0]).view(np.uint16), '016b')\n",
    "            bin_1 = format(np.float16(row[1]).view(np.uint16), '016b')\n",
    "            f.write(f\"{bin_0} {bin_1}\\n\")\n",
    "\n",
    "save_2d_float16_binary_txt(input_signal)"
   ]
  },
  {
   "cell_type": "code",
   "execution_count": 18,
   "id": "18c8ba8e",
   "metadata": {},
   "outputs": [
    {
     "name": "stdout",
     "output_type": "stream",
     "text": [
      "[0.713, 0.393]\n",
      "[0.0318, 0.0636]\n"
     ]
    }
   ],
   "source": [
    "print(input_signal[0])\n",
    "init = input_signal[0]\n",
    "result = cmac(input_signal[1], init)\n",
    "print(result)\n"
   ]
  },
  {
   "cell_type": "code",
   "execution_count": 19,
   "id": "b887d66b",
   "metadata": {},
   "outputs": [
    {
     "name": "stdout",
     "output_type": "stream",
     "text": [
      "0.0318 0.0636\n",
      "0.004845 0.04245\n",
      "-0.0396 0.00911\n",
      "-0.00931 -0.02345\n",
      "0.003838 -0.02841\n",
      "0.01186 -0.01183\n",
      "0.01223 -0.002613\n",
      "0.00603 0.003273\n",
      "0.004837 0.003283\n",
      "0.0008564 0.003216\n",
      "-0.0008907 0.001469\n",
      "-0.001496 0.0003262\n",
      "-0.0005603 -8.21e-05\n",
      "-0.0004091 -0.0002596\n",
      "-2.76e-05 -0.0002105\n",
      "0.0001291 -0.00019\n",
      "0.0001223 -9.38e-05\n",
      "0.0001309 8.34e-06\n",
      "4.256e-05 9.21e-05\n",
      "-1.854e-05 0.0001042\n",
      "-0.0001161 5.335e-05\n",
      "-7.015e-05 -9.28e-05\n",
      "-1.47e-05 -0.0001271\n",
      "7.445e-05 -4.786e-05\n",
      "4.09e-05 6.11e-05\n",
      "-5.484e-05 5e-05\n",
      "-8.273e-05 1.29e-05\n",
      "-5.41e-05 -5.87e-05\n",
      "1.19e-05 -3.433e-05\n",
      "3.266e-05 -2.086e-05\n",
      "2.1e-05 1.09e-05\n",
      "6e-07 1.13e-06\n",
      "-3e-07 1e-06\n",
      "-2e-07 5e-07\n",
      "-1e-07 1e-07\n",
      "-6e-08 -6e-08\n",
      "0.0 -0.0\n",
      "0.0 0.0\n",
      "0.0 0.0\n",
      "0.0 0.0\n",
      "0.0 0.0\n",
      "0.0 0.0\n",
      "0.0 0.0\n",
      "0.0 0.0\n",
      "0.0 0.0\n",
      "0.0 0.0\n",
      "0.0 0.0\n",
      "0.0 0.0\n",
      "0.0 0.0\n"
     ]
    }
   ],
   "source": [
    "result = acc(input_signal)"
   ]
  },
  {
   "cell_type": "code",
   "execution_count": null,
   "id": "64512a6f",
   "metadata": {},
   "outputs": [],
   "source": []
  }
 ],
 "metadata": {
  "kernelspec": {
   "display_name": "hw",
   "language": "python",
   "name": "python3"
  },
  "language_info": {
   "codemirror_mode": {
    "name": "ipython",
    "version": 3
   },
   "file_extension": ".py",
   "mimetype": "text/x-python",
   "name": "python",
   "nbconvert_exporter": "python",
   "pygments_lexer": "ipython3",
   "version": "3.9.16"
  }
 },
 "nbformat": 4,
 "nbformat_minor": 5
}
