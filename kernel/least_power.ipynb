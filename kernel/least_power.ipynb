{
 "cells": [
  {
   "cell_type": "code",
   "execution_count": 1,
   "id": "7adc0acf",
   "metadata": {},
   "outputs": [],
   "source": [
    "import numpy as np\n",
    "import random\n",
    "from FPU import cmul, cadd\n",
    "from utils import generate_fp16, conj, store_binary, read_binary, binary_to_fp16\n"
   ]
  },
  {
   "cell_type": "code",
   "execution_count": 2,
   "id": "93fb4962",
   "metadata": {},
   "outputs": [],
   "source": [
    "input_signal = generate_fp16(size=256, complex=True)\n",
    "store_binary(input_signal, '/net/badwater/z/hyunwon/Documents/_GIT/PROWESS/SIM/PE/DATA/least_power_input.txt')\n",
    "\n",
    "weight_signal = generate_fp16(size=512, complex=True)\n",
    "store_binary(weight_signal, '/net/badwater/z/hyunwon/Documents/_GIT/PROWESS/SIM/PE/DATA/least_power_weight.txt')\n"
   ]
  },
  {
   "cell_type": "code",
   "execution_count": null,
   "id": "9bedc903",
   "metadata": {},
   "outputs": [],
   "source": []
  }
 ],
 "metadata": {
  "kernelspec": {
   "display_name": "hw",
   "language": "python",
   "name": "python3"
  },
  "language_info": {
   "codemirror_mode": {
    "name": "ipython",
    "version": 3
   },
   "file_extension": ".py",
   "mimetype": "text/x-python",
   "name": "python",
   "nbconvert_exporter": "python",
   "pygments_lexer": "ipython3",
   "version": "3.9.16"
  }
 },
 "nbformat": 4,
 "nbformat_minor": 5
}
