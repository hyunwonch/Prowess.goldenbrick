{
 "cells": [
  {
   "cell_type": "code",
   "execution_count": 17,
   "id": "ca98429b-bef2-4ce7-8f3a-d2fe24a4e12b",
   "metadata": {
    "execution": {
     "iopub.execute_input": "2025-04-12T00:03:45.236572Z",
     "iopub.status.busy": "2025-04-12T00:03:45.235136Z",
     "iopub.status.idle": "2025-04-12T00:03:45.242699Z",
     "shell.execute_reply": "2025-04-12T00:03:45.241166Z",
     "shell.execute_reply.started": "2025-04-12T00:03:45.236572Z"
    }
   },
   "outputs": [],
   "source": [
    "def isa_gen(loop=(0,0)):\n",
    "    loop_inst = \"00\"\n",
    "    loop_cnt = \"00000\"\n",
    "    if(loop[0] == \"start\"):\n",
    "        loop_inst = \"10\"\n",
    "        loop_cnt = loop[1]\n",
    "    elif (loop[0] == \"end\"):\n",
    "        loop_inst = \"01\"\n",
    "    elif (loop[0] == \"both\"):\n",
    "        loop_inst = \"11\"\n",
    "        loop_cnt = loop[1]\n",
    "    else:\n",
    "        loop_inst = \"00\"\n",
    "\n",
    "    instruction = loop_inst + str(loop_cnt)\n",
    "    \n",
    "    return instruction"
   ]
  },
  {
   "cell_type": "code",
   "execution_count": 1,
   "id": "c4f0d392-edb0-498e-8987-88c25bffa0b0",
   "metadata": {
    "execution": {
     "iopub.execute_input": "2025-04-12T00:00:05.814059Z",
     "iopub.status.busy": "2025-04-12T00:00:05.813048Z",
     "iopub.status.idle": "2025-04-12T00:00:05.820383Z",
     "shell.execute_reply": "2025-04-12T00:00:05.820383Z",
     "shell.execute_reply.started": "2025-04-12T00:00:05.814059Z"
    }
   },
   "outputs": [],
   "source": [
    "loop = (1,5)"
   ]
  },
  {
   "cell_type": "code",
   "execution_count": 14,
   "id": "412b2fe1-05f6-42c0-a2e8-e2b880248d2c",
   "metadata": {
    "execution": {
     "iopub.execute_input": "2025-04-12T00:03:32.362467Z",
     "iopub.status.busy": "2025-04-12T00:03:32.362467Z",
     "iopub.status.idle": "2025-04-12T00:03:32.369602Z",
     "shell.execute_reply": "2025-04-12T00:03:32.369602Z",
     "shell.execute_reply.started": "2025-04-12T00:03:32.362467Z"
    }
   },
   "outputs": [
    {
     "data": {
      "text/plain": [
       "'10100'"
      ]
     },
     "execution_count": 14,
     "metadata": {},
     "output_type": "execute_result"
    }
   ],
   "source": [
    "isa_gen(loop=(\"start\", 100))"
   ]
  },
  {
   "cell_type": "code",
   "execution_count": 18,
   "id": "131d77a8-2d63-4b20-aa75-4fce24c70d67",
   "metadata": {
    "execution": {
     "iopub.execute_input": "2025-04-12T00:03:46.819330Z",
     "iopub.status.busy": "2025-04-12T00:03:46.819330Z",
     "iopub.status.idle": "2025-04-12T00:03:46.838450Z",
     "shell.execute_reply": "2025-04-12T00:03:46.837939Z",
     "shell.execute_reply.started": "2025-04-12T00:03:46.819330Z"
    }
   },
   "outputs": [
    {
     "data": {
      "text/plain": [
       "'0000000'"
      ]
     },
     "execution_count": 18,
     "metadata": {},
     "output_type": "execute_result"
    }
   ],
   "source": [
    "isa_gen()"
   ]
  },
  {
   "cell_type": "code",
   "execution_count": null,
   "id": "4162f1d4-67f2-45de-ba41-dba4de86d095",
   "metadata": {},
   "outputs": [],
   "source": []
  },
  {
   "cell_type": "code",
   "execution_count": 29,
   "id": "f63c9606-053c-4b19-8e09-2eaae7bd10fc",
   "metadata": {
    "execution": {
     "iopub.execute_input": "2025-04-25T04:30:51.463110Z",
     "iopub.status.busy": "2025-04-25T04:30:51.463110Z",
     "iopub.status.idle": "2025-04-25T04:30:51.478023Z",
     "shell.execute_reply": "2025-04-25T04:30:51.477447Z",
     "shell.execute_reply.started": "2025-04-25T04:30:51.463110Z"
    }
   },
   "outputs": [
    {
     "name": "stdout",
     "output_type": "stream",
     "text": [
      "{'loop_start': [], 'loop_cnt': ['10']}\n",
      "1000001010 \n",
      "1000001010 00000000 \n",
      "1000001010 00000000 000000 \n",
      "1000001010 00000000 000000 00 \n",
      "1000001010 00000000 000000 00 000000000000000000000 \n",
      "1000001010 00000000 000000 00 000000000000000000000 000000000000000000000 0000000000000000\n",
      "{'input': ['cb0-3'], 'output': ['cb2-1']}\n",
      "0000000000 \n",
      "0000000000 00000011 \n",
      "0000000000 00000011 001001 \n",
      "0000000000 00000011 001001 00 \n",
      "0000000000 00000011 001001 00 000000000000000000000 \n",
      "0000000000 00000011 001001 00 000000000000000000000 000000000000000000000 0000000000000000\n",
      "{'bank_sel1': ['1'], 'valid_w1': ['1'], 'waddr1': ['45']}\n",
      "0000000000 \n",
      "0000000000 00000000 \n",
      "0000000000 00000000 000000 \n",
      "0000000000 00000000 000000 00 \n",
      "0000000000 00000000 000000 00 110001011010000000000 \n",
      "0000000000 00000000 000000 00 110001011010000000000 000000000000000000000 0000000000000000\n",
      "{'bank_sel1': ['0'], 'wmode1': ['incr']}\n",
      "0000000000 \n",
      "0000000000 00000000 \n",
      "0000000000 00000000 000000 \n",
      "0000000000 00000000 000000 00 \n",
      "0000000000 00000000 000000 00 000000000010000000000 \n",
      "0000000000 00000000 000000 00 000000000010000000000 000000000000000000000 0000000000000000\n",
      "{'bank_sel1': ['1'], 'valid_r1': ['1'], 'raddr1': ['100']}\n",
      "0000000000 \n",
      "0000000000 00000000 \n",
      "0000000000 00000000 000000 \n",
      "0000000000 00000000 000000 00 \n",
      "0000000000 00000000 000000 00 100000000001001100100 \n",
      "0000000000 00000000 000000 00 100000000001001100100 000000000000000000000 0000000000000000\n",
      "{'bank_sel2': ['0'], 'rmode2': ['dec']}\n",
      "0000000000 \n",
      "0000000000 00000000 \n",
      "0000000000 00000000 000000 \n",
      "0000000000 00000000 000000 00 \n",
      "0000000000 00000000 000000 00 000000000000000000000 \n",
      "0000000000 00000000 000000 00 000000000000000000000 000000000000000000010 0000000000000000\n",
      "{'loop_end': []}\n",
      "0100000000 \n",
      "0100000000 00000000 \n",
      "0100000000 00000000 000000 \n",
      "0100000000 00000000 000000 00 \n",
      "0100000000 00000000 000000 00 000000000000000000000 \n",
      "0100000000 00000000 000000 00 000000000000000000000 000000000000000000000 0000000000000000\n"
     ]
    }
   ],
   "source": [
    "import re\n",
    "\n",
    "# -----------------------------------------------------------------------------\n",
    "# 1) Parse an assembly line into {cmd: [operands], ...}\n",
    "# -----------------------------------------------------------------------------\n",
    "def parse_line(line):\n",
    "    tokens = [tok.strip() for tok in line.split(',')]\n",
    "    instr = {}\n",
    "    for tok in tokens:\n",
    "        m = re.match(r'(\\w+)\\s*(.*)', tok)\n",
    "        if not m:\n",
    "            continue\n",
    "        cmd, operand = m.group(1), m.group(2).strip()\n",
    "        if operand:\n",
    "            instr.setdefault(cmd, []).append(operand)\n",
    "        else:\n",
    "            instr.setdefault(cmd, [])\n",
    "    return instr\n",
    "\n",
    "# -----------------------------------------------------------------------------\n",
    "# 2) Encode parsed dict → 84-bit integer\n",
    "# -----------------------------------------------------------------------------\n",
    "def encode_instruction(instr):\n",
    "    bits = ''\n",
    "\n",
    "    # 1) Loop control\n",
    "    bits += '1' if 'loop_start' in instr else '0'\n",
    "    bits += '1' if 'loop_end'   in instr else '0'\n",
    "    bits += f\"{int(instr.get('loop_cnt', ['0'])[0]):08b}\"\n",
    "\n",
    "    bits += ' '\n",
    "    print(bits)\n",
    "\n",
    "    # 2) Input crossbar (8 bits)\n",
    "    if 'input' in instr:\n",
    "        s, e = map(int, re.findall(r'\\d+', instr['input'][0]))\n",
    "        bits += f\"{s:04b}{e:04b}\"\n",
    "    else:\n",
    "        bits += '0' * 8\n",
    "    bits += ' '\n",
    "    print(bits)\n",
    "    \n",
    "    # 3) Output crossbar (6 bits: 4 + 2)\n",
    "    if 'output' in instr:\n",
    "        s, e = map(int, re.findall(r'\\d+', instr['output'][0]))\n",
    "        bits += f\"{s:04b}{e:02b}\"\n",
    "    else:\n",
    "        bits += '0' * 6\n",
    "    bits += ' '\n",
    "    print(bits)\n",
    "    \n",
    "    # 4) Clock gating (2 bits)\n",
    "    bits += '1' if 'cg1' in instr else '0'\n",
    "    bits += '1' if 'cg2' in instr else '0'\n",
    "    bits += ' '\n",
    "    print(bits)\n",
    "    \n",
    "    # helper for DMEM mode bits\n",
    "    mode_map = {'idle':'00', 'incr':'01', 'dec':'10', 'stay':'11'}\n",
    "\n",
    "    # 5) DMEM1 port\n",
    "    bits += instr.get('bank_sel1', ['0'])[0][-1]\n",
    "    vw1 = instr.get('valid_w1', ['0'])[0][-1]\n",
    "    bits += vw1\n",
    "    if vw1 == '1':\n",
    "        w1 = int(instr.get('waddr1', ['0'])[0])\n",
    "        bits += f\"{w1:09b}\"\n",
    "    else:\n",
    "        mode1 = instr.get('wmode1', [None])[0]\n",
    "        bits += '0' * 7 + mode_map.get(mode1, '00')\n",
    "    vr1 = instr.get('valid_r1', ['0'])[0][-1]\n",
    "    bits += vr1\n",
    "    if vr1 == '1':\n",
    "        r1 = int(instr.get('raddr1', ['0'])[0])\n",
    "        bits += f\"{r1:09b}\"\n",
    "    else:\n",
    "        mode1r = instr.get('rmode1', [None])[0]\n",
    "        bits += '0' * 7 + mode_map.get(mode1r, '00')\n",
    "    bits += ' '\n",
    "    print(bits)\n",
    "\n",
    "    # 6) DMEM2 port\n",
    "    bits += instr.get('bank_sel2', ['0'])[0][-1]\n",
    "    vw2 = instr.get('valid_w2', ['0'])[0][-1]\n",
    "    bits += vw2\n",
    "    if vw2 == '1':\n",
    "        w2 = int(instr.get('waddr2', ['0'])[0])\n",
    "        bits += f\"{w2:09b}\"\n",
    "    else:\n",
    "        mode2 = instr.get('wmode2', [None])[0]\n",
    "        bits += '0' * 7 + mode_map.get(mode2, '00')\n",
    "    vr2 = instr.get('valid_r2', ['0'])[0][-1]\n",
    "    bits += vr2\n",
    "    if vr2 == '1':\n",
    "        r2 = int(instr.get('raddr2', ['0'])[0])\n",
    "        bits += f\"{r2:09b}\"\n",
    "    else:\n",
    "        mode2r = instr.get('rmode2', [None])[0]\n",
    "        bits += '0' * 7 + mode_map.get(mode2r, '00')\n",
    "\n",
    "    bits += ' '\n",
    "\n",
    "    bits2 = bits.replace(\" \",\"\")\n",
    "\n",
    "    # 6) Pad to 84 bits\n",
    "    if len(bits2) < 84:\n",
    "        bits += '0' * (84 - len(bits2))\n",
    "    elif len(bits2) > 84:\n",
    "        raise ValueError(f\"Generated {len(bits)} bits, exceeds 84\")\n",
    "\n",
    "    return bits\n",
    "\n",
    "# -----------------------------------------------------------------------------\n",
    "# 3) Main: read 'test.txt' → write 'output.bin'\n",
    "# -----------------------------------------------------------------------------\n",
    "def assemble():\n",
    "    with open('test.txt') as fin, open('output.bin','w') as fout:\n",
    "        for line in fin:\n",
    "            line = line.strip()\n",
    "            if not line or line.startswith('#'):\n",
    "                continue\n",
    "            instr = parse_line(line)\n",
    "            print(instr)\n",
    "            val   = encode_instruction(instr)\n",
    "            print(val)\n",
    "\n",
    "if __name__ == '__main__':\n",
    "    assemble()\n"
   ]
  },
  {
   "cell_type": "code",
   "execution_count": null,
   "id": "afa4c7e0-40a0-4db0-ae58-1106cb808fda",
   "metadata": {},
   "outputs": [],
   "source": []
  }
 ],
 "metadata": {
  "kernelspec": {
   "display_name": "Python 3 (ipykernel)",
   "language": "python",
   "name": "python3"
  },
  "language_info": {
   "codemirror_mode": {
    "name": "ipython",
    "version": 3
   },
   "file_extension": ".py",
   "mimetype": "text/x-python",
   "name": "python",
   "nbconvert_exporter": "python",
   "pygments_lexer": "ipython3",
   "version": "3.11.8"
  },
  "widgets": {
   "application/vnd.jupyter.widget-state+json": {
    "state": {},
    "version_major": 2,
    "version_minor": 0
   }
  }
 },
 "nbformat": 4,
 "nbformat_minor": 5
}
