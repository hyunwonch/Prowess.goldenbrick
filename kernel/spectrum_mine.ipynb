{
 "cells": [
  {
   "cell_type": "code",
   "execution_count": null,
   "id": "b9a2a156",
   "metadata": {},
   "outputs": [],
   "source": [
    "import numpy as np\n",
    "import random\n",
    "\n",
    "from FPU import cmul, cadd\n",
    "from utils import conj, read_binary, binary_to_fp16, store_binary, generate_fp16, fp16_to_binary, int_to_binary, binary_to_int\n",
    "from ed import ed\n",
    "from hilbert import hilbert_manual_conv"
   ]
  },
  {
   "cell_type": "markdown",
   "id": "cd8776a0",
   "metadata": {},
   "source": [
    "# Basic functions"
   ]
  },
  {
   "cell_type": "code",
   "execution_count": null,
   "id": "d68a2c1c",
   "metadata": {},
   "outputs": [],
   "source": [
    "def delayseq(data, lag: int, mode: str = \"zero\"):\n",
    "    \"\"\"\n",
    "    Apply delay (positive lag) or advance (negative lag) to a sequence.\n",
    "\n",
    "    Supports both:\n",
    "    - Real sequences (list of np.float16)\n",
    "    - Complex sequences (list of [real, imag] pairs)\n",
    "\n",
    "    Output length is always equal to the input length.\n",
    "\n",
    "    Args:\n",
    "        data: Input sequence (real or complex).\n",
    "        lag:  Number of samples to delay (positive) or advance (negative).\n",
    "        mode:\n",
    "            \"zero\" → fill shifted positions with zeros (default).\n",
    "            \"wrap\" → perform circular (cyclic) shift.\n",
    "\n",
    "    Returns:\n",
    "        Delayed (or advanced) sequence of the same length.\n",
    "    \"\"\"\n",
    "    if not data:\n",
    "        return []\n",
    "\n",
    "    # Detect if the input is complex\n",
    "    is_complex = isinstance(data[0], (list, tuple)) and len(data[0]) == 2\n",
    "    n = len(data)\n",
    "\n",
    "    # Circular shift mode\n",
    "    if mode == \"wrap\":\n",
    "        k = lag % n\n",
    "        return data[-k:] + data[:-k] if k != 0 else data.copy()\n",
    "\n",
    "    if mode != \"zero\":\n",
    "        raise ValueError('mode must be \"zero\" or \"wrap\"')\n",
    "\n",
    "    # Zero-fill mode\n",
    "    zero_val = [np.float16(0.0), np.float16(0.0)] if is_complex else np.float16(0.0)\n",
    "\n",
    "    # Positive lag → delay to the right (zeros at the front)\n",
    "    if lag > 0:\n",
    "        fill = [zero_val] * min(lag, n)\n",
    "        tail = data[: max(0, n - lag)]\n",
    "        return fill + tail\n",
    "\n",
    "    # No lag\n",
    "    if lag == 0:\n",
    "        return data.copy()\n",
    "\n",
    "    # Negative lag → advance to the left (zeros at the end)\n",
    "    lag_abs = min(-lag, n)\n",
    "    head = data[lag_abs:]\n",
    "    fill = [zero_val] * lag_abs\n",
    "    return head + fill"
   ]
  },
  {
   "cell_type": "code",
   "execution_count": null,
   "id": "4f71fd9b",
   "metadata": {},
   "outputs": [],
   "source": []
  },
  {
   "cell_type": "code",
   "execution_count": null,
   "id": "62534e8f",
   "metadata": {},
   "outputs": [],
   "source": []
  },
  {
   "cell_type": "code",
   "execution_count": null,
   "id": "80ba8d7a",
   "metadata": {},
   "outputs": [],
   "source": []
  },
  {
   "cell_type": "markdown",
   "id": "b3fedc18",
   "metadata": {},
   "source": [
    "# Custom Kernel"
   ]
  },
  {
   "cell_type": "code",
   "execution_count": 60,
   "id": "d7f2ab73",
   "metadata": {},
   "outputs": [],
   "source": [
    "# Square, Mean, Conj, Conv, Abs\n",
    "def square_complex(data_in):\n",
    "    data_out = []\n",
    "    for idx, val in enumerate(data_in):\n",
    "        real = val[0]\n",
    "        imag = val[1]\n",
    "\n",
    "        real_out = real*real - imag*imag\n",
    "        imag_out = 2*real*imag\n",
    "        data_out.append([real_out, imag_out])\n",
    "    return data_out\n",
    "\n",
    "def mean_complex(data_in):\n",
    "    real_out = np.float16(0)\n",
    "    imag_out = np.float16(0)\n",
    "    for idx, val in enumerate(data_in):\n",
    "        real = val[0]\n",
    "        imag = val[1]\n",
    "\n",
    "        real_out += real\n",
    "        imag_out += imag\n",
    "    data_out = [real_out/len(data_in), imag_out/len(data_in)]\n",
    "    return data_out\n",
    "\n",
    "def conj(data_in):\n",
    "    data_out = []\n",
    "    for idx, val in enumerate(data_in):\n",
    "        real = val[0]\n",
    "        imag = val[1]\n",
    "\n",
    "        real_out = real\n",
    "        imag_out = -imag\n",
    "        data_out.append([real_out, imag_out])\n",
    "    return data_out\n",
    "\n",
    "def abs_complex(data_in):\n",
    "    data_out = []\n",
    "    for idx, val in enumerate(data_in):\n",
    "        real = val[0]\n",
    "        imag = val[1]\n",
    "\n",
    "        real_out = np.float16(real*real + imag*imag)\n",
    "        imag_out = np.float16(0)\n",
    "        data_out.append([real_out, imag_out])\n",
    "    return data_out"
   ]
  },
  {
   "cell_type": "code",
   "execution_count": 63,
   "id": "11a972c7",
   "metadata": {},
   "outputs": [
    {
     "data": {
      "text/plain": [
       "[[np.float16(0.9185), np.float16(-0.925)],\n",
       " [np.float16(-0.1749), np.float16(-0.3303)]]"
      ]
     },
     "execution_count": 63,
     "metadata": {},
     "output_type": "execute_result"
    }
   ],
   "source": [
    "sample = generate_fp16(2, complex=True)\n",
    "sample"
   ]
  },
  {
   "cell_type": "code",
   "execution_count": 62,
   "id": "2afa7168",
   "metadata": {},
   "outputs": [
    {
     "data": {
      "text/plain": [
       "[[np.float16(1.699), np.float16(0.0)], [np.float16(0.1398), np.float16(0.0)]]"
      ]
     },
     "execution_count": 62,
     "metadata": {},
     "output_type": "execute_result"
    }
   ],
   "source": [
    "abs_complex(sample)"
   ]
  },
  {
   "cell_type": "code",
   "execution_count": 39,
   "id": "86243be2",
   "metadata": {},
   "outputs": [],
   "source": [
    "square_out = square(sample)"
   ]
  },
  {
   "cell_type": "markdown",
   "id": "42d407b9",
   "metadata": {},
   "source": [
    "## CP Detect"
   ]
  },
  {
   "cell_type": "code",
   "execution_count": null,
   "id": "993d94fa",
   "metadata": {},
   "outputs": [],
   "source": []
  },
  {
   "cell_type": "markdown",
   "id": "bc6f327a",
   "metadata": {},
   "source": [
    "## IA"
   ]
  },
  {
   "cell_type": "code",
   "execution_count": null,
   "id": "f794a55d",
   "metadata": {},
   "outputs": [],
   "source": []
  },
  {
   "cell_type": "markdown",
   "id": "0667862e",
   "metadata": {},
   "source": [
    "## QAM Estimation\n",
    "- Equalization"
   ]
  },
  {
   "cell_type": "code",
   "execution_count": null,
   "id": "0e93ffdb",
   "metadata": {},
   "outputs": [],
   "source": []
  },
  {
   "cell_type": "code",
   "execution_count": null,
   "id": "ca86c305",
   "metadata": {},
   "outputs": [],
   "source": []
  }
 ],
 "metadata": {
  "kernelspec": {
   "display_name": "base",
   "language": "python",
   "name": "python3"
  },
  "language_info": {
   "codemirror_mode": {
    "name": "ipython",
    "version": 3
   },
   "file_extension": ".py",
   "mimetype": "text/x-python",
   "name": "python",
   "nbconvert_exporter": "python",
   "pygments_lexer": "ipython3",
   "version": "3.13.5"
  }
 },
 "nbformat": 4,
 "nbformat_minor": 5
}
